{
 "cells": [
  {
   "cell_type": "code",
   "execution_count": null,
   "id": "f8ba9fbc-62b4-457c-9cba-8d280e59d6c1",
   "metadata": {},
   "outputs": [],
   "source": [
    "from cosmoprimo import fiducial\n",
    "import numpy as np\n",
    "import matplotlib.pyplot as plt\n",
    "import pandas as pd\n",
    "import os"
   ]
  },
  {
   "cell_type": "code",
   "execution_count": null,
   "id": "e1fe6a21-bf09-49c5-a213-4d778e91149d",
   "metadata": {},
   "outputs": [],
   "source": [
    "cosmo_desi = fiducial.DESI()\n",
    "\n",
    "tracers = ['lrg', 'elg', 'qso']\n",
    "redshifts = [0.8, 1.1, 1.4]\n",
    "\n",
    "cosmo_list = []\n",
    "cosmo_names = ['000', '001', '002', '003', '004']\n",
    "for cosmo_name in cosmo_names:\n",
    "    cosmo = fiducial.AbacusSummit(name=cosmo_name, engine='class')\n",
    "    cosmo_list.append(cosmo)"
   ]
  },
  {
   "cell_type": "code",
   "execution_count": null,
   "id": "bd6aa8fd-443c-411c-b339-9f353c99fa2e",
   "metadata": {},
   "outputs": [],
   "source": [
    "res = []\n",
    "alpha_values = {}\n",
    "for tracer, redshift in zip(tracers, redshifts):\n",
    "    alpha_values[tracer] = {}\n",
    "    for j in [0, 3, 4]:\n",
    "        cosmo_true = cosmo_list[j]\n",
    "        cosmo_true_name = cosmo_names[j]\n",
    "        rs_true = cosmo_true.rs_drag\n",
    "        h_true = cosmo_true.efunc(redshift).item()\n",
    "        da_true = cosmo_true.angular_diameter_distance(redshift).item()\n",
    "    \n",
    "        for cosmo_grid, cosmo_grid_name in zip(cosmo_list, cosmo_names):\n",
    "            for cosmo_temp, cosmo_temp_name in zip(cosmo_list, cosmo_names):\n",
    "                rs_temp = cosmo_temp.rs_drag\n",
    "                h_cat = cosmo_grid.efunc(redshift).item()\n",
    "                da_cat = cosmo_grid.angular_diameter_distance(redshift).item()\n",
    "                q_par = h_cat / h_true\n",
    "                q_perp = da_true / da_cat\n",
    "                rs_ratio = rs_temp / rs_true\n",
    "                \n",
    "                res.append([tracer, cosmo_true_name, cosmo_grid_name, cosmo_temp_name, q_par, q_perp, rs_ratio])\n",
    "df = pd.DataFrame(res, columns=['tracer', 'cosmo_true', 'cosmo_grid', 'cosmo_temp', 'q_par', 'q_perp', 'rs_ratio'])\n",
    "df['alpha_par'] = df['q_par'] * df['rs_ratio']\n",
    "df['alpha_perp'] = df['q_perp'] * df['rs_ratio']\n",
    "df = df.set_index(['tracer', 'cosmo_true', 'cosmo_grid', 'cosmo_temp'])\n",
    "df = df.sort_index()"
   ]
  },
  {
   "cell_type": "code",
   "execution_count": null,
   "id": "7e1d6c24-b1eb-49da-a4fc-476b823974c9",
   "metadata": {},
   "outputs": [],
   "source": [
    "for tracer in tracers:\n",
    "    df.loc[tracer].to_csv(f'alphas_{tracer}_cubicbox.csv')"
   ]
  },
  {
   "cell_type": "code",
   "execution_count": null,
   "id": "8e12572b-39f5-4a48-8dea-086d437f49d8",
   "metadata": {},
   "outputs": [],
   "source": [
    "alpha_values = {}\n",
    "for tracer, redshift in zip(tracers, redshifts):\n",
    "    alpha_values[tracer] = {}\n",
    "    for j in [0, 3, 4]:\n",
    "        cosmo_true = cosmo_list[j]\n",
    "        cosmo_true_name = cosmo_names[j]\n",
    "        rs_true = cosmo_true.rs_drag\n",
    "        h_true = cosmo_true.efunc(redshift).item()\n",
    "        da_true = cosmo_true.angular_diameter_distance(redshift).item()\n",
    "        \n",
    "        alpha_values[tracer][cosmo_true_name] = {}\n",
    "        values = alpha_values[tracer][cosmo_true_name]\n",
    "        for cosmo_grid, cosmo_grid_name in zip(cosmo_list, cosmo_names):\n",
    "            values[cosmo_grid_name] = {}\n",
    "            for cosmo_temp, cosmo_temp_name in zip(cosmo_list, cosmo_names):\n",
    "                values[cosmo_grid_name][cosmo_temp_name] = {}\n",
    "                rs_temp = cosmo_temp.rs_drag\n",
    "                h_cat = cosmo_grid.efunc(redshift).item()\n",
    "                da_cat = cosmo_grid.angular_diameter_distance(redshift).item()\n",
    "                q_par = h_cat / h_true\n",
    "                q_perp = da_true / da_cat\n",
    "                rs_ratio = rs_temp / rs_true\n",
    "                alpha_par = q_par * rs_ratio\n",
    "                alpha_perp = q_perp * rs_ratio\n",
    "                values[cosmo_grid_name][cosmo_temp_name]['q_par'] = q_par\n",
    "                values[cosmo_grid_name][cosmo_temp_name]['q_perp'] = q_perp\n",
    "                values[cosmo_grid_name][cosmo_temp_name]['rs_ratio'] = rs_ratio\n",
    "                values[cosmo_grid_name][cosmo_temp_name]['alpha_par'] = alpha_par\n",
    "                values[cosmo_grid_name][cosmo_temp_name]['alpha_perp'] = alpha_perp"
   ]
  },
  {
   "cell_type": "code",
   "execution_count": null,
   "id": "3dd13a86-93e5-47e6-a5db-5687f75fbb14",
   "metadata": {},
   "outputs": [],
   "source": [
    "alpha_values['lrg']['000']['000']['002']"
   ]
  },
  {
   "cell_type": "code",
   "execution_count": null,
   "id": "b496d504-d82e-43b6-b085-246ee8c1e618",
   "metadata": {},
   "outputs": [],
   "source": []
  }
 ],
 "metadata": {
  "kernelspec": {
   "display_name": "cosmodesi-main",
   "language": "python",
   "name": "cosmodesi-main"
  },
  "language_info": {
   "codemirror_mode": {
    "name": "ipython",
    "version": 3
   },
   "file_extension": ".py",
   "mimetype": "text/x-python",
   "name": "python",
   "nbconvert_exporter": "python",
   "pygments_lexer": "ipython3",
   "version": "3.9.13"
  }
 },
 "nbformat": 4,
 "nbformat_minor": 5
}
