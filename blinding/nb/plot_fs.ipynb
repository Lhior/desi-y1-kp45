{
 "cells": [
  {
   "cell_type": "code",
   "execution_count": 1,
   "id": "85b2f54c-7fa9-4ed9-8471-01a39c0a8147",
   "metadata": {},
   "outputs": [],
   "source": [
    "import os\n",
    "import glob\n",
    "import numpy as np\n",
    "from matplotlib import pyplot as plt"
   ]
  },
  {
   "cell_type": "code",
   "execution_count": 2,
   "id": "d941b2c5-3092-48b9-a2b1-d2abea2ac058",
   "metadata": {},
   "outputs": [],
   "source": [
    "# These lines of code are setting various parameters for the appearance of plots created using the matplotlib library. \n",
    "plt.rc('font', family='serif')\n",
    "plt.rc('text', usetex=False)\n",
    "plt.rc('font', family='serif', size = 20)\n",
    "plt.rcParams['axes.linewidth'] = 1.5\n",
    "plt.rcParams['xtick.major.size'] = 10\n",
    "plt.rcParams['xtick.minor.size'] = 5\n",
    "plt.rcParams['ytick.major.size'] = 10\n",
    "plt.rcParams['ytick.minor.size'] = 5\n",
    "plt.rcParams['xtick.minor.visible'] = True\n",
    "plt.rcParams['ytick.minor.visible'] = True\n",
    "plt.rcParams['xtick.top'] = True\n",
    "plt.rcParams['xtick.direction'] = 'in'\n",
    "plt.rcParams['ytick.direction'] = 'in'\n",
    "plt.rcParams['ytick.right'] = True\n",
    "plt.rcParams['figure.figsize'] = (30.0, 8.0)   #13,8   # Determina o tamanho do plot dentro do ipython notebook\n",
    "plt.rcParams['xtick.major.width']  = 1\n",
    "plt.rcParams['ytick.major.width']  = 1\n",
    "plt.rcParams['xtick.major.pad']= 8"
   ]
  },
  {
   "cell_type": "code",
   "execution_count": 3,
   "id": "18759e7a-9a13-439a-bdde-2a13b600df2a",
   "metadata": {},
   "outputs": [],
   "source": [
    "tracer = 'LRG'\n",
    "region = 'NScomb' # choices=['NGC', 'SGC', 'NS', 'S', 'NGCS', 'SGCS', 'N']\n",
    "theory_name = 'fs'\n",
    "clustering_statistics = 'pk' # choices=['pk', 'xi']\n",
    "zmin, zmax, b0 = {'LRG': (0.4, 1.1, 1.7), 'ELG': (1.1, 1.6, 0.84), 'QSO': (1.6, 2.1, 1.2)}[tracer]"
   ]
  },
  {
   "cell_type": "code",
   "execution_count": 4,
   "id": "996921ef-d16d-46d0-871d-f54cf4b31760",
   "metadata": {},
   "outputs": [],
   "source": [
    "base_dir = '..'\n",
    "profiles_fn = sorted(glob.glob(os.path.join(base_dir, 'blinded', 'test_w0-*', '{}'.format(theory_name), '{}'.format(clustering_statistics), 'profile_{}_{}_{}_{}.npy'.format(tracer, region, zmin, zmax))))\n",
    "profiles_unblinded_fn = os.path.join(base_dir, 'unblinded', '{}'.format(theory_name), '{}'.format(clustering_statistics),'profile_{}_{}_{}_{}.npy'.format(tracer, region, zmin, zmax))"
   ]
  },
  {
   "cell_type": "code",
   "execution_count": 5,
   "metadata": {},
   "outputs": [
    {
     "data": {
      "text/plain": [
       "['../blinded/test_w0-0.9040043101843285_wa0.025634205416364297/fs/pk/profile_LRG_NScomb_0.4_1.1.npy',\n",
       " '../blinded/test_w0-0.9057030601797708_wa-0.6831142329608426/fs/pk/profile_LRG_NScomb_0.4_1.1.npy',\n",
       " '../blinded/test_w0-0.970439944958287_wa-0.507777992481059/fs/pk/profile_LRG_NScomb_0.4_1.1.npy',\n",
       " '../blinded/test_w0-0.996229742129104_wa0.28930866494014884/fs/pk/profile_LRG_NScomb_0.4_1.1.npy',\n",
       " '../blinded/test_w0-1.0485430984101343_wa0.14015686872763022/fs/pk/profile_LRG_NScomb_0.4_1.1.npy',\n",
       " '../blinded/test_w0-1.106392086529483_wa0.45478607672455995/fs/pk/profile_LRG_NScomb_0.4_1.1.npy',\n",
       " '../blinded/test_w0-1.1616966626392298_wa0.3746115553255438/fs/pk/profile_LRG_NScomb_0.4_1.1.npy',\n",
       " '../blinded/test_w0-1.233469858595847_wa0.7658531629974685/fs/pk/profile_LRG_NScomb_0.4_1.1.npy']"
      ]
     },
     "execution_count": 5,
     "metadata": {},
     "output_type": "execute_result"
    }
   ],
   "source": [
    "profiles_fn"
   ]
  },
  {
   "cell_type": "code",
   "execution_count": 6,
   "id": "54f52ff4",
   "metadata": {},
   "outputs": [],
   "source": [
    "from desilike.samples import Profiles"
   ]
  },
  {
   "cell_type": "code",
   "execution_count": 7,
   "id": "9f7fd56a-4941-4d25-ab4d-8eadbcb9f818",
   "metadata": {},
   "outputs": [],
   "source": [
    "bestfit = {name: [] for name in ['qpar', 'qper', 'dm', 'df', 'chi2min']}\n",
    "error = {name: [] for name in ['qpar', 'qper', 'dm', 'df']}\n",
    "expected = {name: [] for name in ['qpar', 'qper', 'dm', 'df']}\n",
    "expected_unblided = {}\n",
    "\n",
    "from desilike.samples import Profiles\n",
    "profiles_unblinded = Profiles.load(profiles_unblinded_fn)\n",
    "index = profiles_unblinded.bestfit.logposterior.argmax()\n",
    "\n",
    "bestfit_unblinded = {name: profiles_unblinded.bestfit[name][index] for name in error}\n",
    "bestfit_unblinded['qiso'] = bestfit_unblinded['qpar']**(1./3.) * bestfit_unblinded['qper']**(2./3.)\n",
    "bestfit_unblinded['chi2min'] = profiles_unblinded.bestfit.chi2min\n",
    "# bestfit_unblinded['chi2min_red'] = float(profiles.bestfit.chi2min / profiles.bestfit.attrs['ndof'])\n",
    "error_unblinded = {name: profiles_unblinded.error[name][index] for name in error}\n",
    "for name in error_unblinded: error_unblinded[name] = error_unblinded[name]\n",
    "                   \n",
    "expected_unblided['qpar'] = profiles_unblinded.attrs['expected']['qpar']\n",
    "expected_unblided['qper'] = profiles_unblinded.attrs['expected']['qper']\n",
    "expected_unblided['dm'] = profiles_unblinded.attrs['expected']['dm']\n",
    "expected_unblided['df'] = profiles_unblinded.attrs['expected']['df']\n",
    "\n",
    "cov_unblinded = profiles_unblinded.covariance.view(params=['qper', 'qpar'])\n",
    "jac = np.array([2.0 / 3.0, 1.0 / 3.0])\n",
    "qiso_error_unblinded = {'qiso': jac.dot(cov_unblinded).dot(jac)**0.5}\n",
    "\n",
    "qiso_error, qiso_error_fixed_covmat_unblinded = [], []\n",
    "\n",
    "for profiles_fn_ in profiles_fn:\n",
    "    profiles = Profiles.load(profiles_fn_)\n",
    "    for name in expected: expected[name].append(profiles.attrs['expected'][name])\n",
    "    index = profiles.bestfit.logposterior.argmax()\n",
    "    for name in error: bestfit[name].append(profiles.bestfit[name][index])\n",
    "    for name in error: error[name].append(profiles.error[name][index])\n",
    "    cov = profiles.covariance.view(params=['qper', 'qpar'])\n",
    "    jac = np.array([2.0 / 3.0, 1.0 / 3.0])\n",
    "    qiso_error.append(jac.dot(cov).dot(jac)**0.5)    \n",
    "    bestfit['chi2min'].append(float(profiles.bestfit.chi2min))\n",
    "\n",
    "bestfit['qiso'] = [*(np.array(bestfit['qpar'])**(1./3.) * np.array(bestfit['qper'])**(2./3.))]\n",
    "expected['qiso'] = [*(np.array(expected['qpar'])**(1./3.) * np.array(expected['qper'])**(2./3.))]\n",
    "error['qiso'] = qiso_error\n",
    "\n",
    "error_unblinded['qiso'] = qiso_error_unblinded['qiso']"
   ]
  },
  {
   "cell_type": "code",
   "execution_count": 8,
   "id": "0150cf57",
   "metadata": {},
   "outputs": [
    {
     "data": {
      "text/plain": [
       "{'qpar': 0.017725916029996402,\n",
       " 'qper': 0.01197342582296762,\n",
       " 'dm': 0.02679133108192011,\n",
       " 'df': 0.048309361870519485,\n",
       " 'qiso': 0.00868577945938632}"
      ]
     },
     "execution_count": 8,
     "metadata": {},
     "output_type": "execute_result"
    }
   ],
   "source": [
    "error_unblinded"
   ]
  },
  {
   "cell_type": "code",
   "execution_count": 9,
   "id": "b0594cae",
   "metadata": {},
   "outputs": [
    {
     "data": {
      "text/plain": [
       "['../blinded/test_w0-0.9040043101843285_wa0.025634205416364297/fs/pk/profile_LRG_NScomb_0.4_1.1.npy',\n",
       " '../blinded/test_w0-0.9057030601797708_wa-0.6831142329608426/fs/pk/profile_LRG_NScomb_0.4_1.1.npy',\n",
       " '../blinded/test_w0-0.970439944958287_wa-0.507777992481059/fs/pk/profile_LRG_NScomb_0.4_1.1.npy',\n",
       " '../blinded/test_w0-0.996229742129104_wa0.28930866494014884/fs/pk/profile_LRG_NScomb_0.4_1.1.npy',\n",
       " '../blinded/test_w0-1.0485430984101343_wa0.14015686872763022/fs/pk/profile_LRG_NScomb_0.4_1.1.npy',\n",
       " '../blinded/test_w0-1.106392086529483_wa0.45478607672455995/fs/pk/profile_LRG_NScomb_0.4_1.1.npy',\n",
       " '../blinded/test_w0-1.1616966626392298_wa0.3746115553255438/fs/pk/profile_LRG_NScomb_0.4_1.1.npy',\n",
       " '../blinded/test_w0-1.233469858595847_wa0.7658531629974685/fs/pk/profile_LRG_NScomb_0.4_1.1.npy']"
      ]
     },
     "execution_count": 9,
     "metadata": {},
     "output_type": "execute_result"
    }
   ],
   "source": [
    "profiles_fn"
   ]
  },
  {
   "cell_type": "code",
   "execution_count": 10,
   "id": "a295a3e6",
   "metadata": {},
   "outputs": [
    {
     "name": "stdout",
     "output_type": "stream",
     "text": [
      "{'size': 108, 'nvaried': 13, 'ndof': 95}\n",
      "ParameterBestFit(shape=(3,), params=ParameterCollection(['qpar', 'qper', 'dm', 'df', 'b1', 'b2', 'bs', 'alpha0', 'alpha2', 'alpha4', 'sn0', 'sn2', 'sn4', 'logposterior', 'f_sqrt_Ap', 'm', 'n', 'loglikelihood', 'logprior']))\n"
     ]
    }
   ],
   "source": [
    "print(profiles.bestfit.attrs)\n",
    "print(profiles.bestfit)"
   ]
  },
  {
   "cell_type": "code",
   "execution_count": 11,
   "id": "16874d3b",
   "metadata": {},
   "outputs": [
    {
     "data": {
      "text/plain": [
       "{'qpar': [1.0210481451770472,\n",
       "  0.9930917747409093,\n",
       "  0.9869494263033585,\n",
       "  1.0157665625738812,\n",
       "  0.9955647659770814,\n",
       "  0.9955432641511709,\n",
       "  0.986980361479716,\n",
       "  0.993875350235136],\n",
       " 'qper': [1.016671946526991,\n",
       "  0.9919660357020453,\n",
       "  0.9818853239372377,\n",
       "  1.0059416774830858,\n",
       "  0.9900276321311122,\n",
       "  0.9902574766120565,\n",
       "  0.9737470106374962,\n",
       "  0.9687934672618788],\n",
       " 'dm': [-0.003899390415809476,\n",
       "  0.0030408188114160175,\n",
       "  0.011194224864238125,\n",
       "  0.007441648491063718,\n",
       "  0.000981696941243517,\n",
       "  -0.0009632295642024026,\n",
       "  0.01476465838152458,\n",
       "  0.007846216975533608],\n",
       " 'df': [1.059949429019277,\n",
       "  0.8567453270000923,\n",
       "  0.8425325966545505,\n",
       "  1.0402131529808931,\n",
       "  0.8957777506985943,\n",
       "  0.9085444122237927,\n",
       "  0.8484870627273452,\n",
       "  0.8416950799857303],\n",
       " 'chi2min': [129.70575159143252,\n",
       "  134.9756244655865,\n",
       "  131.9105036032104,\n",
       "  131.24659365885532,\n",
       "  121.70801860490751,\n",
       "  132.71527782169485,\n",
       "  135.82121700519443,\n",
       "  135.12658426114396],\n",
       " 'qiso': [1.0181285913940221,\n",
       "  0.9923411401875182,\n",
       "  0.9835704643174569,\n",
       "  1.0092060346346534,\n",
       "  0.9918699131003642,\n",
       "  0.9920162801186456,\n",
       "  0.9781382945467318,\n",
       "  0.9770829634164389]}"
      ]
     },
     "execution_count": 11,
     "metadata": {},
     "output_type": "execute_result"
    }
   ],
   "source": [
    "bestfit"
   ]
  },
  {
   "cell_type": "code",
   "execution_count": 12,
   "id": "bf13707e",
   "metadata": {},
   "outputs": [],
   "source": [
    "import pandas as pd"
   ]
  },
  {
   "cell_type": "code",
   "execution_count": 13,
   "id": "c482e58f",
   "metadata": {},
   "outputs": [
    {
     "data": {
      "text/html": [
       "<div>\n",
       "<style scoped>\n",
       "    .dataframe tbody tr th:only-of-type {\n",
       "        vertical-align: middle;\n",
       "    }\n",
       "\n",
       "    .dataframe tbody tr th {\n",
       "        vertical-align: top;\n",
       "    }\n",
       "\n",
       "    .dataframe thead th {\n",
       "        text-align: right;\n",
       "    }\n",
       "</style>\n",
       "<table border=\"1\" class=\"dataframe\">\n",
       "  <thead>\n",
       "    <tr style=\"text-align: right;\">\n",
       "      <th></th>\n",
       "      <th>qpar_err</th>\n",
       "      <th>qper_err</th>\n",
       "      <th>dm_err</th>\n",
       "      <th>df_err</th>\n",
       "      <th>qiso_err</th>\n",
       "    </tr>\n",
       "  </thead>\n",
       "  <tbody>\n",
       "    <tr>\n",
       "      <th>0</th>\n",
       "      <td>0.017726</td>\n",
       "      <td>0.011973</td>\n",
       "      <td>0.026791</td>\n",
       "      <td>0.048309</td>\n",
       "      <td>0.008686</td>\n",
       "    </tr>\n",
       "  </tbody>\n",
       "</table>\n",
       "</div>"
      ],
      "text/plain": [
       "   qpar_err  qper_err    dm_err    df_err  qiso_err\n",
       "0  0.017726  0.011973  0.026791  0.048309  0.008686"
      ]
     },
     "execution_count": 13,
     "metadata": {},
     "output_type": "execute_result"
    }
   ],
   "source": [
    "df_error_unblinded = pd.DataFrame(error_unblinded, index=[0])\n",
    "df_error_unblinded.rename(columns={\"qpar\": \"qpar_err\", \"qper\": \"qper_err\", \"dm\": \"dm_err\", \"df\": \"df_err\", \"qiso\": \"qiso_err\"}, inplace=True)\n",
    "df_error_unblinded"
   ]
  },
  {
   "cell_type": "code",
   "execution_count": 14,
   "id": "f9dc102f",
   "metadata": {},
   "outputs": [
    {
     "data": {
      "text/html": [
       "<div>\n",
       "<style scoped>\n",
       "    .dataframe tbody tr th:only-of-type {\n",
       "        vertical-align: middle;\n",
       "    }\n",
       "\n",
       "    .dataframe tbody tr th {\n",
       "        vertical-align: top;\n",
       "    }\n",
       "\n",
       "    .dataframe thead th {\n",
       "        text-align: right;\n",
       "    }\n",
       "</style>\n",
       "<table border=\"1\" class=\"dataframe\">\n",
       "  <thead>\n",
       "    <tr style=\"text-align: right;\">\n",
       "      <th></th>\n",
       "      <th>qpar_err</th>\n",
       "      <th>qper_err</th>\n",
       "      <th>dm_err</th>\n",
       "      <th>df_err</th>\n",
       "      <th>qiso_err</th>\n",
       "    </tr>\n",
       "  </thead>\n",
       "  <tbody>\n",
       "    <tr>\n",
       "      <th>0</th>\n",
       "      <td>0.010914</td>\n",
       "      <td>0.008426</td>\n",
       "      <td>0.013110</td>\n",
       "      <td>0.031901</td>\n",
       "      <td>0.005986</td>\n",
       "    </tr>\n",
       "    <tr>\n",
       "      <th>1</th>\n",
       "      <td>0.010452</td>\n",
       "      <td>0.008141</td>\n",
       "      <td>0.011490</td>\n",
       "      <td>0.029231</td>\n",
       "      <td>0.005601</td>\n",
       "    </tr>\n",
       "    <tr>\n",
       "      <th>2</th>\n",
       "      <td>0.016608</td>\n",
       "      <td>0.010513</td>\n",
       "      <td>0.024769</td>\n",
       "      <td>0.045713</td>\n",
       "      <td>0.007580</td>\n",
       "    </tr>\n",
       "    <tr>\n",
       "      <th>3</th>\n",
       "      <td>0.017818</td>\n",
       "      <td>0.011600</td>\n",
       "      <td>0.025783</td>\n",
       "      <td>0.048631</td>\n",
       "      <td>0.008591</td>\n",
       "    </tr>\n",
       "    <tr>\n",
       "      <th>4</th>\n",
       "      <td>0.017710</td>\n",
       "      <td>0.013015</td>\n",
       "      <td>0.026386</td>\n",
       "      <td>0.049374</td>\n",
       "      <td>0.009171</td>\n",
       "    </tr>\n",
       "    <tr>\n",
       "      <th>5</th>\n",
       "      <td>0.017387</td>\n",
       "      <td>0.011844</td>\n",
       "      <td>0.025343</td>\n",
       "      <td>0.048266</td>\n",
       "      <td>0.008542</td>\n",
       "    </tr>\n",
       "    <tr>\n",
       "      <th>6</th>\n",
       "      <td>0.010359</td>\n",
       "      <td>0.007990</td>\n",
       "      <td>0.011346</td>\n",
       "      <td>0.029141</td>\n",
       "      <td>0.005513</td>\n",
       "    </tr>\n",
       "    <tr>\n",
       "      <th>7</th>\n",
       "      <td>0.017583</td>\n",
       "      <td>0.011742</td>\n",
       "      <td>0.026013</td>\n",
       "      <td>0.048590</td>\n",
       "      <td>0.008452</td>\n",
       "    </tr>\n",
       "  </tbody>\n",
       "</table>\n",
       "</div>"
      ],
      "text/plain": [
       "   qpar_err  qper_err    dm_err    df_err  qiso_err\n",
       "0  0.010914  0.008426  0.013110  0.031901  0.005986\n",
       "1  0.010452  0.008141  0.011490  0.029231  0.005601\n",
       "2  0.016608  0.010513  0.024769  0.045713  0.007580\n",
       "3  0.017818  0.011600  0.025783  0.048631  0.008591\n",
       "4  0.017710  0.013015  0.026386  0.049374  0.009171\n",
       "5  0.017387  0.011844  0.025343  0.048266  0.008542\n",
       "6  0.010359  0.007990  0.011346  0.029141  0.005513\n",
       "7  0.017583  0.011742  0.026013  0.048590  0.008452"
      ]
     },
     "execution_count": 14,
     "metadata": {},
     "output_type": "execute_result"
    }
   ],
   "source": [
    "df_error = pd.DataFrame(error)\n",
    "df_error.rename(columns={\"qpar\": \"qpar_err\", \"qper\": \"qper_err\", \"dm\": \"dm_err\", \"df\": \"df_err\", \"qiso\": \"qiso_err\"}, inplace=True)\n",
    "df_error"
   ]
  },
  {
   "cell_type": "code",
   "execution_count": 15,
   "id": "57cd5529",
   "metadata": {},
   "outputs": [
    {
     "data": {
      "text/plain": [
       "{'qpar': [1.0210481451770472,\n",
       "  0.9930917747409093,\n",
       "  0.9869494263033585,\n",
       "  1.0157665625738812,\n",
       "  0.9955647659770814,\n",
       "  0.9955432641511709,\n",
       "  0.986980361479716,\n",
       "  0.993875350235136],\n",
       " 'qper': [1.016671946526991,\n",
       "  0.9919660357020453,\n",
       "  0.9818853239372377,\n",
       "  1.0059416774830858,\n",
       "  0.9900276321311122,\n",
       "  0.9902574766120565,\n",
       "  0.9737470106374962,\n",
       "  0.9687934672618788],\n",
       " 'dm': [-0.003899390415809476,\n",
       "  0.0030408188114160175,\n",
       "  0.011194224864238125,\n",
       "  0.007441648491063718,\n",
       "  0.000981696941243517,\n",
       "  -0.0009632295642024026,\n",
       "  0.01476465838152458,\n",
       "  0.007846216975533608],\n",
       " 'df': [1.059949429019277,\n",
       "  0.8567453270000923,\n",
       "  0.8425325966545505,\n",
       "  1.0402131529808931,\n",
       "  0.8957777506985943,\n",
       "  0.9085444122237927,\n",
       "  0.8484870627273452,\n",
       "  0.8416950799857303],\n",
       " 'chi2min': [129.70575159143252,\n",
       "  134.9756244655865,\n",
       "  131.9105036032104,\n",
       "  131.24659365885532,\n",
       "  121.70801860490751,\n",
       "  132.71527782169485,\n",
       "  135.82121700519443,\n",
       "  135.12658426114396],\n",
       " 'qiso': [1.0181285913940221,\n",
       "  0.9923411401875182,\n",
       "  0.9835704643174569,\n",
       "  1.0092060346346534,\n",
       "  0.9918699131003642,\n",
       "  0.9920162801186456,\n",
       "  0.9781382945467318,\n",
       "  0.9770829634164389]}"
      ]
     },
     "execution_count": 15,
     "metadata": {},
     "output_type": "execute_result"
    }
   ],
   "source": [
    "bestfit"
   ]
  },
  {
   "cell_type": "code",
   "execution_count": 16,
   "id": "9ca9ebc2",
   "metadata": {},
   "outputs": [
    {
     "data": {
      "text/plain": [
       "{'qpar': 0.9978237766312253,\n",
       " 'qper': 0.993913911171625,\n",
       " 'dm': 0.007657006761500892,\n",
       " 'df': 0.9397596241916434,\n",
       " 'qiso': 0.9952154944214672,\n",
       " 'chi2min': ParameterArray(logposterior, None, 130.68605023825384)}"
      ]
     },
     "execution_count": 16,
     "metadata": {},
     "output_type": "execute_result"
    }
   ],
   "source": [
    "bestfit_unblinded"
   ]
  },
  {
   "cell_type": "code",
   "execution_count": 17,
   "id": "94bb20e7",
   "metadata": {},
   "outputs": [
    {
     "data": {
      "text/plain": [
       "95"
      ]
     },
     "execution_count": 17,
     "metadata": {},
     "output_type": "execute_result"
    }
   ],
   "source": [
    "profiles_unblinded.bestfit.attrs['ndof']"
   ]
  },
  {
   "cell_type": "code",
   "execution_count": 18,
   "id": "1c119f96",
   "metadata": {},
   "outputs": [
    {
     "data": {
      "text/plain": [
       "{'w0': -1.0,\n",
       " 'wa': 0.0,\n",
       " 'f': 0.8,\n",
       " 'qpar': 0.9978237766312253,\n",
       " 'qper': 0.993913911171625,\n",
       " 'dm': 0.007657006761500892,\n",
       " 'df': 0.9397596241916434,\n",
       " 'qiso': 0.9952154944214672,\n",
       " 'chi2min': ParameterArray(logposterior, None, 130.68605023825384),\n",
       " 'ndof': 95}"
      ]
     },
     "execution_count": 18,
     "metadata": {},
     "output_type": "execute_result"
    }
   ],
   "source": [
    "unblinded_cosmo = {'w0': -1.0, 'wa': 0.0, 'f': 0.8}\n",
    "unblinded_cosmo.update(bestfit_unblinded)\n",
    "unblinded_cosmo.update({'ndof': profiles_unblinded.bestfit.attrs['ndof']})\n",
    "unblinded_cosmo"
   ]
  },
  {
   "cell_type": "code",
   "execution_count": 19,
   "id": "a387efc1",
   "metadata": {},
   "outputs": [
    {
     "data": {
      "text/html": [
       "<div>\n",
       "<style scoped>\n",
       "    .dataframe tbody tr th:only-of-type {\n",
       "        vertical-align: middle;\n",
       "    }\n",
       "\n",
       "    .dataframe tbody tr th {\n",
       "        vertical-align: top;\n",
       "    }\n",
       "\n",
       "    .dataframe thead th {\n",
       "        text-align: right;\n",
       "    }\n",
       "</style>\n",
       "<table border=\"1\" class=\"dataframe\">\n",
       "  <thead>\n",
       "    <tr style=\"text-align: right;\">\n",
       "      <th></th>\n",
       "      <th>w0</th>\n",
       "      <th>wa</th>\n",
       "      <th>f</th>\n",
       "      <th>qpar</th>\n",
       "      <th>qper</th>\n",
       "      <th>dm</th>\n",
       "      <th>df</th>\n",
       "      <th>qiso</th>\n",
       "      <th>chi2min</th>\n",
       "      <th>ndof</th>\n",
       "      <th>qpar_err</th>\n",
       "      <th>qper_err</th>\n",
       "      <th>dm_err</th>\n",
       "      <th>df_err</th>\n",
       "      <th>qiso_err</th>\n",
       "    </tr>\n",
       "  </thead>\n",
       "  <tbody>\n",
       "    <tr>\n",
       "      <th>0</th>\n",
       "      <td>-1.0</td>\n",
       "      <td>0.0</td>\n",
       "      <td>0.8</td>\n",
       "      <td>0.997824</td>\n",
       "      <td>0.993914</td>\n",
       "      <td>0.007657</td>\n",
       "      <td>0.93976</td>\n",
       "      <td>0.995215</td>\n",
       "      <td>130.68605</td>\n",
       "      <td>95</td>\n",
       "      <td>0.017726</td>\n",
       "      <td>0.011973</td>\n",
       "      <td>0.026791</td>\n",
       "      <td>0.048309</td>\n",
       "      <td>0.008686</td>\n",
       "    </tr>\n",
       "  </tbody>\n",
       "</table>\n",
       "</div>"
      ],
      "text/plain": [
       "    w0   wa    f      qpar      qper        dm       df      qiso    chi2min  \\\n",
       "0 -1.0  0.0  0.8  0.997824  0.993914  0.007657  0.93976  0.995215  130.68605   \n",
       "\n",
       "   ndof  qpar_err  qper_err    dm_err    df_err  qiso_err  \n",
       "0    95  0.017726  0.011973  0.026791  0.048309  0.008686  "
      ]
     },
     "execution_count": 19,
     "metadata": {},
     "output_type": "execute_result"
    }
   ],
   "source": [
    "cosmo_unblinded = pd.DataFrame(unblinded_cosmo, index=[0])\n",
    "cosmo_unblinded = pd.concat([cosmo_unblinded, df_error_unblinded], axis=1)\n",
    "cosmo_unblinded"
   ]
  },
  {
   "cell_type": "code",
   "execution_count": 20,
   "id": "03eab071",
   "metadata": {},
   "outputs": [],
   "source": [
    "base = '/global/cfs/cdirs/desi/survey/catalogs/main/mocks/FirstGenMocks/AbacusSummit/Y1/mock1/LSScats/'\n",
    "data_dir = base + 'blinded/jmena/test_w0-*/LSScats/blinded/'\n",
    "fn_list = sorted(glob.glob(os.path.join(data_dir, 'blinded_parameters_{}.csv'.format(tracer))))\n",
    "\n",
    "cosmo_blinded = {name: [] for name in ['w0', 'wa', 'f']}\n",
    "ndof = {name: [] for name in ['ndof']}\n",
    "for j, profiles_fn_ in zip(fn_list, profiles_fn):\n",
    "    w0_blind, wa_blind, f_blind = np.loadtxt(j, delimiter=',', skiprows=1)\n",
    "    cosmo_blinded['w0'].append(w0_blind)\n",
    "    cosmo_blinded['wa'].append(wa_blind)\n",
    "    cosmo_blinded['f'].append(f_blind)\n",
    "    ndof['ndof'].append(profiles.bestfit.attrs['ndof'])\n",
    "\n",
    "cosmo_blinded.update(bestfit)\n",
    "cosmo_blinded.update(df_error)\n",
    "cosmo_blinded.update(ndof)\n",
    "cosmo_blinded = pd.DataFrame(cosmo_blinded)\n",
    "\n",
    "blinded_concat = pd.concat([cosmo_unblinded, cosmo_blinded ], axis=0)"
   ]
  },
  {
   "cell_type": "code",
   "execution_count": 21,
   "id": "74045c5c",
   "metadata": {},
   "outputs": [
    {
     "data": {
      "text/html": [
       "<div>\n",
       "<style scoped>\n",
       "    .dataframe tbody tr th:only-of-type {\n",
       "        vertical-align: middle;\n",
       "    }\n",
       "\n",
       "    .dataframe tbody tr th {\n",
       "        vertical-align: top;\n",
       "    }\n",
       "\n",
       "    .dataframe thead th {\n",
       "        text-align: right;\n",
       "    }\n",
       "</style>\n",
       "<table border=\"1\" class=\"dataframe\">\n",
       "  <thead>\n",
       "    <tr style=\"text-align: right;\">\n",
       "      <th></th>\n",
       "      <th>w0</th>\n",
       "      <th>wa</th>\n",
       "      <th>f</th>\n",
       "      <th>qpar</th>\n",
       "      <th>qper</th>\n",
       "      <th>dm</th>\n",
       "      <th>df</th>\n",
       "      <th>qiso</th>\n",
       "      <th>chi2min</th>\n",
       "      <th>ndof</th>\n",
       "      <th>qpar_err</th>\n",
       "      <th>qper_err</th>\n",
       "      <th>dm_err</th>\n",
       "      <th>df_err</th>\n",
       "      <th>qiso_err</th>\n",
       "    </tr>\n",
       "  </thead>\n",
       "  <tbody>\n",
       "    <tr>\n",
       "      <th>0</th>\n",
       "      <td>-1.0</td>\n",
       "      <td>0.0</td>\n",
       "      <td>0.8</td>\n",
       "      <td>0.997824</td>\n",
       "      <td>0.993914</td>\n",
       "      <td>0.007657</td>\n",
       "      <td>0.93976</td>\n",
       "      <td>0.995215</td>\n",
       "      <td>130.68605</td>\n",
       "      <td>95</td>\n",
       "      <td>0.017726</td>\n",
       "      <td>0.011973</td>\n",
       "      <td>0.026791</td>\n",
       "      <td>0.048309</td>\n",
       "      <td>0.008686</td>\n",
       "    </tr>\n",
       "  </tbody>\n",
       "</table>\n",
       "</div>"
      ],
      "text/plain": [
       "    w0   wa    f      qpar      qper        dm       df      qiso    chi2min  \\\n",
       "0 -1.0  0.0  0.8  0.997824  0.993914  0.007657  0.93976  0.995215  130.68605   \n",
       "\n",
       "   ndof  qpar_err  qper_err    dm_err    df_err  qiso_err  \n",
       "0    95  0.017726  0.011973  0.026791  0.048309  0.008686  "
      ]
     },
     "execution_count": 21,
     "metadata": {},
     "output_type": "execute_result"
    }
   ],
   "source": [
    "cosmo_unblinded"
   ]
  },
  {
   "cell_type": "code",
   "execution_count": 22,
   "id": "9d82a36c",
   "metadata": {},
   "outputs": [
    {
     "data": {
      "text/html": [
       "<div>\n",
       "<style scoped>\n",
       "    .dataframe tbody tr th:only-of-type {\n",
       "        vertical-align: middle;\n",
       "    }\n",
       "\n",
       "    .dataframe tbody tr th {\n",
       "        vertical-align: top;\n",
       "    }\n",
       "\n",
       "    .dataframe thead th {\n",
       "        text-align: right;\n",
       "    }\n",
       "</style>\n",
       "<table border=\"1\" class=\"dataframe\">\n",
       "  <thead>\n",
       "    <tr style=\"text-align: right;\">\n",
       "      <th></th>\n",
       "      <th>w0</th>\n",
       "      <th>wa</th>\n",
       "      <th>f</th>\n",
       "      <th>qpar</th>\n",
       "      <th>qper</th>\n",
       "      <th>dm</th>\n",
       "      <th>df</th>\n",
       "      <th>qiso</th>\n",
       "      <th>chi2min</th>\n",
       "      <th>ndof</th>\n",
       "      <th>qpar_err</th>\n",
       "      <th>qper_err</th>\n",
       "      <th>dm_err</th>\n",
       "      <th>df_err</th>\n",
       "      <th>qiso_err</th>\n",
       "    </tr>\n",
       "  </thead>\n",
       "  <tbody>\n",
       "    <tr>\n",
       "      <th>0</th>\n",
       "      <td>-1.000000</td>\n",
       "      <td>0.000000</td>\n",
       "      <td>0.800000</td>\n",
       "      <td>0.997824</td>\n",
       "      <td>0.993914</td>\n",
       "      <td>0.007657</td>\n",
       "      <td>0.939760</td>\n",
       "      <td>0.995215</td>\n",
       "      <td>130.686050</td>\n",
       "      <td>95</td>\n",
       "      <td>0.017726</td>\n",
       "      <td>0.011973</td>\n",
       "      <td>0.026791</td>\n",
       "      <td>0.048309</td>\n",
       "      <td>0.008686</td>\n",
       "    </tr>\n",
       "    <tr>\n",
       "      <th>0</th>\n",
       "      <td>-0.904004</td>\n",
       "      <td>0.025634</td>\n",
       "      <td>0.880000</td>\n",
       "      <td>1.021048</td>\n",
       "      <td>1.016672</td>\n",
       "      <td>-0.003899</td>\n",
       "      <td>1.059949</td>\n",
       "      <td>1.018129</td>\n",
       "      <td>129.705752</td>\n",
       "      <td>95</td>\n",
       "      <td>0.010914</td>\n",
       "      <td>0.008426</td>\n",
       "      <td>0.013110</td>\n",
       "      <td>0.031901</td>\n",
       "      <td>0.005986</td>\n",
       "    </tr>\n",
       "    <tr>\n",
       "      <th>1</th>\n",
       "      <td>-0.905703</td>\n",
       "      <td>-0.683114</td>\n",
       "      <td>0.733309</td>\n",
       "      <td>0.993092</td>\n",
       "      <td>0.991966</td>\n",
       "      <td>0.003041</td>\n",
       "      <td>0.856745</td>\n",
       "      <td>0.992341</td>\n",
       "      <td>134.975624</td>\n",
       "      <td>95</td>\n",
       "      <td>0.010452</td>\n",
       "      <td>0.008141</td>\n",
       "      <td>0.011490</td>\n",
       "      <td>0.029231</td>\n",
       "      <td>0.005601</td>\n",
       "    </tr>\n",
       "    <tr>\n",
       "      <th>2</th>\n",
       "      <td>-0.970440</td>\n",
       "      <td>-0.507778</td>\n",
       "      <td>0.720000</td>\n",
       "      <td>0.986949</td>\n",
       "      <td>0.981885</td>\n",
       "      <td>0.011194</td>\n",
       "      <td>0.842533</td>\n",
       "      <td>0.983570</td>\n",
       "      <td>131.910504</td>\n",
       "      <td>95</td>\n",
       "      <td>0.016608</td>\n",
       "      <td>0.010513</td>\n",
       "      <td>0.024769</td>\n",
       "      <td>0.045713</td>\n",
       "      <td>0.007580</td>\n",
       "    </tr>\n",
       "    <tr>\n",
       "      <th>3</th>\n",
       "      <td>-0.996230</td>\n",
       "      <td>0.289309</td>\n",
       "      <td>0.880000</td>\n",
       "      <td>1.015767</td>\n",
       "      <td>1.005942</td>\n",
       "      <td>0.007442</td>\n",
       "      <td>1.040213</td>\n",
       "      <td>1.009206</td>\n",
       "      <td>131.246594</td>\n",
       "      <td>95</td>\n",
       "      <td>0.017818</td>\n",
       "      <td>0.011600</td>\n",
       "      <td>0.025783</td>\n",
       "      <td>0.048631</td>\n",
       "      <td>0.008591</td>\n",
       "    </tr>\n",
       "    <tr>\n",
       "      <th>4</th>\n",
       "      <td>-1.048543</td>\n",
       "      <td>0.140157</td>\n",
       "      <td>0.759545</td>\n",
       "      <td>0.995565</td>\n",
       "      <td>0.990028</td>\n",
       "      <td>0.000982</td>\n",
       "      <td>0.895778</td>\n",
       "      <td>0.991870</td>\n",
       "      <td>121.708019</td>\n",
       "      <td>95</td>\n",
       "      <td>0.017710</td>\n",
       "      <td>0.013015</td>\n",
       "      <td>0.026386</td>\n",
       "      <td>0.049374</td>\n",
       "      <td>0.009171</td>\n",
       "    </tr>\n",
       "    <tr>\n",
       "      <th>5</th>\n",
       "      <td>-1.106392</td>\n",
       "      <td>0.454786</td>\n",
       "      <td>0.764499</td>\n",
       "      <td>0.995543</td>\n",
       "      <td>0.990257</td>\n",
       "      <td>-0.000963</td>\n",
       "      <td>0.908544</td>\n",
       "      <td>0.992016</td>\n",
       "      <td>132.715278</td>\n",
       "      <td>95</td>\n",
       "      <td>0.017387</td>\n",
       "      <td>0.011844</td>\n",
       "      <td>0.025343</td>\n",
       "      <td>0.048266</td>\n",
       "      <td>0.008542</td>\n",
       "    </tr>\n",
       "    <tr>\n",
       "      <th>6</th>\n",
       "      <td>-1.161697</td>\n",
       "      <td>0.374612</td>\n",
       "      <td>0.720000</td>\n",
       "      <td>0.986980</td>\n",
       "      <td>0.973747</td>\n",
       "      <td>0.014765</td>\n",
       "      <td>0.848487</td>\n",
       "      <td>0.978138</td>\n",
       "      <td>135.821217</td>\n",
       "      <td>95</td>\n",
       "      <td>0.010359</td>\n",
       "      <td>0.007990</td>\n",
       "      <td>0.011346</td>\n",
       "      <td>0.029141</td>\n",
       "      <td>0.005513</td>\n",
       "    </tr>\n",
       "    <tr>\n",
       "      <th>7</th>\n",
       "      <td>-1.233470</td>\n",
       "      <td>0.765853</td>\n",
       "      <td>0.720000</td>\n",
       "      <td>0.993875</td>\n",
       "      <td>0.968793</td>\n",
       "      <td>0.007846</td>\n",
       "      <td>0.841695</td>\n",
       "      <td>0.977083</td>\n",
       "      <td>135.126584</td>\n",
       "      <td>95</td>\n",
       "      <td>0.017583</td>\n",
       "      <td>0.011742</td>\n",
       "      <td>0.026013</td>\n",
       "      <td>0.048590</td>\n",
       "      <td>0.008452</td>\n",
       "    </tr>\n",
       "  </tbody>\n",
       "</table>\n",
       "</div>"
      ],
      "text/plain": [
       "         w0        wa         f      qpar      qper        dm        df  \\\n",
       "0 -1.000000  0.000000  0.800000  0.997824  0.993914  0.007657  0.939760   \n",
       "0 -0.904004  0.025634  0.880000  1.021048  1.016672 -0.003899  1.059949   \n",
       "1 -0.905703 -0.683114  0.733309  0.993092  0.991966  0.003041  0.856745   \n",
       "2 -0.970440 -0.507778  0.720000  0.986949  0.981885  0.011194  0.842533   \n",
       "3 -0.996230  0.289309  0.880000  1.015767  1.005942  0.007442  1.040213   \n",
       "4 -1.048543  0.140157  0.759545  0.995565  0.990028  0.000982  0.895778   \n",
       "5 -1.106392  0.454786  0.764499  0.995543  0.990257 -0.000963  0.908544   \n",
       "6 -1.161697  0.374612  0.720000  0.986980  0.973747  0.014765  0.848487   \n",
       "7 -1.233470  0.765853  0.720000  0.993875  0.968793  0.007846  0.841695   \n",
       "\n",
       "       qiso     chi2min  ndof  qpar_err  qper_err    dm_err    df_err  \\\n",
       "0  0.995215  130.686050    95  0.017726  0.011973  0.026791  0.048309   \n",
       "0  1.018129  129.705752    95  0.010914  0.008426  0.013110  0.031901   \n",
       "1  0.992341  134.975624    95  0.010452  0.008141  0.011490  0.029231   \n",
       "2  0.983570  131.910504    95  0.016608  0.010513  0.024769  0.045713   \n",
       "3  1.009206  131.246594    95  0.017818  0.011600  0.025783  0.048631   \n",
       "4  0.991870  121.708019    95  0.017710  0.013015  0.026386  0.049374   \n",
       "5  0.992016  132.715278    95  0.017387  0.011844  0.025343  0.048266   \n",
       "6  0.978138  135.821217    95  0.010359  0.007990  0.011346  0.029141   \n",
       "7  0.977083  135.126584    95  0.017583  0.011742  0.026013  0.048590   \n",
       "\n",
       "   qiso_err  \n",
       "0  0.008686  \n",
       "0  0.005986  \n",
       "1  0.005601  \n",
       "2  0.007580  \n",
       "3  0.008591  \n",
       "4  0.009171  \n",
       "5  0.008542  \n",
       "6  0.005513  \n",
       "7  0.008452  "
      ]
     },
     "execution_count": 22,
     "metadata": {},
     "output_type": "execute_result"
    }
   ],
   "source": [
    "blinded_concat"
   ]
  },
  {
   "cell_type": "code",
   "execution_count": 23,
   "id": "e550aa06",
   "metadata": {},
   "outputs": [
    {
     "name": "stdout",
     "output_type": "stream",
     "text": [
      "\\begin{tabular}{rrrrrrrrrrrrrrr}\n",
      "\\toprule\n",
      "     w0 &      wa &      f &   qpar &  qpar\\_err &   qper &  qper\\_err &   qiso &  qiso\\_err &      dm &  dm\\_err &     df &  df\\_err &  chi2min &  ndof \\\\\n",
      "\\midrule\n",
      "-1.0000 &  0.0000 & 0.8000 & 0.9978 &    0.0177 & 0.9939 &    0.0120 & 0.9952 &    0.0087 &  0.0077 &  0.0268 & 0.9398 &  0.0483 & 130.6861 &    95 \\\\\n",
      "-0.9040 &  0.0256 & 0.8800 & 1.0210 &    0.0109 & 1.0167 &    0.0084 & 1.0181 &    0.0060 & -0.0039 &  0.0131 & 1.0599 &  0.0319 & 129.7058 &    95 \\\\\n",
      "-0.9057 & -0.6831 & 0.7333 & 0.9931 &    0.0105 & 0.9920 &    0.0081 & 0.9923 &    0.0056 &  0.0030 &  0.0115 & 0.8567 &  0.0292 & 134.9756 &    95 \\\\\n",
      "-0.9704 & -0.5078 & 0.7200 & 0.9869 &    0.0166 & 0.9819 &    0.0105 & 0.9836 &    0.0076 &  0.0112 &  0.0248 & 0.8425 &  0.0457 & 131.9105 &    95 \\\\\n",
      "-0.9962 &  0.2893 & 0.8800 & 1.0158 &    0.0178 & 1.0059 &    0.0116 & 1.0092 &    0.0086 &  0.0074 &  0.0258 & 1.0402 &  0.0486 & 131.2466 &    95 \\\\\n",
      "-1.0485 &  0.1402 & 0.7595 & 0.9956 &    0.0177 & 0.9900 &    0.0130 & 0.9919 &    0.0092 &  0.0010 &  0.0264 & 0.8958 &  0.0494 & 121.7080 &    95 \\\\\n",
      "-1.1064 &  0.4548 & 0.7645 & 0.9955 &    0.0174 & 0.9903 &    0.0118 & 0.9920 &    0.0085 & -0.0010 &  0.0253 & 0.9085 &  0.0483 & 132.7153 &    95 \\\\\n",
      "-1.1617 &  0.3746 & 0.7200 & 0.9870 &    0.0104 & 0.9737 &    0.0080 & 0.9781 &    0.0055 &  0.0148 &  0.0113 & 0.8485 &  0.0291 & 135.8212 &    95 \\\\\n",
      "-1.2335 &  0.7659 & 0.7200 & 0.9939 &    0.0176 & 0.9688 &    0.0117 & 0.9771 &    0.0085 &  0.0078 &  0.0260 & 0.8417 &  0.0486 & 135.1266 &    95 \\\\\n",
      "\\bottomrule\n",
      "\\end{tabular}\n",
      "\n"
     ]
    },
    {
     "name": "stderr",
     "output_type": "stream",
     "text": [
      "/tmp/ipykernel_210559/1616399567.py:4: FutureWarning: In future versions `DataFrame.to_latex` is expected to utilise the base implementation of `Styler.to_latex` for formatting and rendering. The arguments signature may therefore change. It is recommended instead to use `DataFrame.style.to_latex` which also contains additional functionality.\n",
      "  print(df.to_latex(index=False,\n"
     ]
    }
   ],
   "source": [
    "df = pd.DataFrame(blinded_concat)\n",
    "df = df[[\"w0\", \"wa\", \"f\", \"qpar\", \"qpar_err\", \"qper\", \"qper_err\", \"qiso\", \"qiso_err\", \"dm\", \"dm_err\", \"df\", \"df_err\", \"chi2min\", \"ndof\"]]\n",
    "\n",
    "print(df.to_latex(index=False,\n",
    "                  formatters={\"name\": str.upper},\n",
    "                float_format=\"{:0.4f}\".format, multirow = False))"
   ]
  },
  {
   "cell_type": "code",
   "execution_count": 24,
   "id": "23b166de",
   "metadata": {},
   "outputs": [
    {
     "data": {
      "text/plain": [
       "{'qpar': 1.0, 'qper': 1.0, 'dm': 1.0, 'df': 1.0}"
      ]
     },
     "execution_count": 24,
     "metadata": {},
     "output_type": "execute_result"
    }
   ],
   "source": [
    "expected_unblided"
   ]
  },
  {
   "cell_type": "code",
   "execution_count": 25,
   "id": "1448a901-2100-47f0-8c25-2d4299056b13",
   "metadata": {},
   "outputs": [
    {
     "name": "stdout",
     "output_type": "stream",
     "text": [
      "qiso_unlinded = 0.99522 \\pm 0.0086858\n"
     ]
    }
   ],
   "source": [
    "print(r'qiso_unlinded = {:.5} \\pm {:.5}'.format(bestfit_unblinded['qiso'], qiso_error_unblinded['qiso'] ))"
   ]
  },
  {
   "cell_type": "code",
   "execution_count": 26,
   "id": "25b26ff6",
   "metadata": {},
   "outputs": [
    {
     "data": {
      "text/plain": [
       "ParameterArray(logposterior, None, 130.68605023825384)"
      ]
     },
     "execution_count": 26,
     "metadata": {},
     "output_type": "execute_result"
    }
   ],
   "source": [
    "bestfit_unblinded['chi2min']"
   ]
  },
  {
   "cell_type": "code",
   "execution_count": 27,
   "id": "d8ca11dc",
   "metadata": {},
   "outputs": [],
   "source": [
    "# bestfit_unblinded['chi2min_red']"
   ]
  },
  {
   "cell_type": "code",
   "execution_count": 28,
   "id": "980589ff",
   "metadata": {},
   "outputs": [
    {
     "data": {
      "text/plain": [
       "[129.70575159143252,\n",
       " 134.9756244655865,\n",
       " 131.9105036032104,\n",
       " 131.24659365885532,\n",
       " 121.70801860490751,\n",
       " 132.71527782169485,\n",
       " 135.82121700519443,\n",
       " 135.12658426114396]"
      ]
     },
     "execution_count": 28,
     "metadata": {},
     "output_type": "execute_result"
    }
   ],
   "source": [
    "bestfit['chi2min']"
   ]
  },
  {
   "cell_type": "code",
   "execution_count": 29,
   "id": "71283cd4",
   "metadata": {},
   "outputs": [
    {
     "data": {
      "text/plain": [
       "ParameterArray(logposterior, None, 130.68605023825384)"
      ]
     },
     "execution_count": 29,
     "metadata": {},
     "output_type": "execute_result"
    }
   ],
   "source": [
    " bestfit_unblinded['chi2min']"
   ]
  },
  {
   "cell_type": "code",
   "execution_count": 30,
   "id": "d31042c5",
   "metadata": {},
   "outputs": [
    {
     "data": {
      "text/plain": [
       "ParameterArray(logposterior, None, [-0.00750117  0.03282351  0.00936943  0.00428924 -0.06869923  0.0155275\n",
       "  0.03929392  0.03397864])"
      ]
     },
     "execution_count": 30,
     "metadata": {},
     "output_type": "execute_result"
    }
   ],
   "source": [
    "bestfit['chi2min'] / bestfit_unblinded['chi2min'] - 1."
   ]
  },
  {
   "cell_type": "code",
   "execution_count": 31,
   "id": "b7ec3de1",
   "metadata": {},
   "outputs": [
    {
     "data": {
      "text/plain": [
       "ParameterArray(logposterior, None, 135.12658426114396)"
      ]
     },
     "execution_count": 31,
     "metadata": {},
     "output_type": "execute_result"
    }
   ],
   "source": [
    "profiles.bestfit.chi2min"
   ]
  },
  {
   "cell_type": "code",
   "execution_count": 32,
   "id": "02307873",
   "metadata": {},
   "outputs": [
    {
     "data": {
      "text/plain": [
       "{'size': 108, 'nvaried': 13, 'ndof': 95}"
      ]
     },
     "execution_count": 32,
     "metadata": {},
     "output_type": "execute_result"
    }
   ],
   "source": [
    "profiles.bestfit.attrs"
   ]
  },
  {
   "cell_type": "code",
   "execution_count": 33,
   "id": "7e9fe628",
   "metadata": {},
   "outputs": [
    {
     "data": {
      "text/plain": [
       "{'qpar': 0.9978237766312253,\n",
       " 'qper': 0.993913911171625,\n",
       " 'dm': 0.007657006761500892,\n",
       " 'df': 0.9397596241916434,\n",
       " 'qiso': 0.9952154944214672,\n",
       " 'chi2min': ParameterArray(logposterior, None, 130.68605023825384)}"
      ]
     },
     "execution_count": 33,
     "metadata": {},
     "output_type": "execute_result"
    }
   ],
   "source": [
    "bestfit_unblinded"
   ]
  },
  {
   "cell_type": "code",
   "execution_count": 34,
   "id": "cdb1f837",
   "metadata": {},
   "outputs": [
    {
     "data": {
      "text/plain": [
       "[0.0, 0.0, 0.0, 0.0, 0.0, 0.0, 0.0, 0.0]"
      ]
     },
     "execution_count": 34,
     "metadata": {},
     "output_type": "execute_result"
    }
   ],
   "source": [
    "expected['dm'] = list(np.zeros(len(expected['dm'])))\n",
    "expected['dm']"
   ]
  },
  {
   "cell_type": "code",
   "execution_count": 35,
   "id": "c236baad",
   "metadata": {},
   "outputs": [
    {
     "data": {
      "text/plain": [
       "[0.013110323741564327,\n",
       " 0.011490282984094616,\n",
       " 0.024768935877912804,\n",
       " 0.025782597636173177,\n",
       " 0.026385681357349852,\n",
       " 0.02534292796536522,\n",
       " 0.011346479144346427,\n",
       " 0.026013026568602646]"
      ]
     },
     "execution_count": 35,
     "metadata": {},
     "output_type": "execute_result"
    }
   ],
   "source": [
    "error['dm']"
   ]
  },
  {
   "cell_type": "code",
   "execution_count": 36,
   "id": "dba4ec7e",
   "metadata": {},
   "outputs": [
    {
     "data": {
      "text/plain": [
       "[-0.003899390415809476,\n",
       " 0.0030408188114160175,\n",
       " 0.011194224864238125,\n",
       " 0.007441648491063718,\n",
       " 0.000981696941243517,\n",
       " -0.0009632295642024026,\n",
       " 0.01476465838152458,\n",
       " 0.007846216975533608]"
      ]
     },
     "execution_count": 36,
     "metadata": {},
     "output_type": "execute_result"
    }
   ],
   "source": [
    "bestfit['dm']"
   ]
  },
  {
   "cell_type": "code",
   "execution_count": 37,
   "id": "7a79187e",
   "metadata": {},
   "outputs": [
    {
     "data": {
      "text/plain": [
       "0.007657006761500892"
      ]
     },
     "execution_count": 37,
     "metadata": {},
     "output_type": "execute_result"
    }
   ],
   "source": [
    "bestfit_unblinded['dm']"
   ]
  },
  {
   "cell_type": "code",
   "execution_count": 38,
   "id": "dca14c2f",
   "metadata": {},
   "outputs": [
    {
     "data": {
      "text/plain": [
       "array([-0.0115564 , -0.00461619,  0.00353722, -0.00021536, -0.00667531,\n",
       "       -0.00862024,  0.00710765,  0.00018921])"
      ]
     },
     "execution_count": 38,
     "metadata": {},
     "output_type": "execute_result"
    }
   ],
   "source": [
    "\n",
    "bestfit['dm'] - bestfit_unblinded['dm']"
   ]
  },
  {
   "cell_type": "code",
   "execution_count": 39,
   "id": "482ebb58-e6a9-4c05-ba82-1cb902bff5bf",
   "metadata": {},
   "outputs": [
    {
     "data": {
      "image/png": "[encoded data removed]",
      "text/plain": [
       "<Figure size 3000x800 with 10 Axes>"
      ]
     },
     "metadata": {},
     "output_type": "display_data"
    }
   ],
   "source": [
    "fig, ax = plt.subplots(2, 5, sharex='col')\n",
    "\n",
    "ax[0, 0].errorbar(expected['qpar'], bestfit['qpar'] / bestfit_unblinded['qpar'], yerr=error['qpar'], fmt='p') #row=0, col=0\n",
    "ax[0, 0].tick_params('x', labelbottom=True)\n",
    "ax[0, 0].set(ylabel=r'$q_{\\parallel}^{blind} / q_{\\parallel}^{unblind}$')\n",
    "ax[0, 0].plot(ax[0, 0].get_xlim(), ax[0, 0].get_xlim(), c='gray', linestyle='--')\n",
    "ax[0, 0].text(0.98, 1.025, r'$q_{\\parallel}{\\rm[bestfit]}: %f$' % (bestfit_unblinded['qpar']), fontsize=15)\n",
    "\n",
    "ax[1, 0].scatter(expected['qpar'], bestfit['chi2min'] / bestfit_unblinded['chi2min'] - 1.) #row=1, col=0\n",
    "ax[1, 0].set(ylabel=r'$\\chi^2_{min} / \\chi^2_{min, unblind} - 1$', xlabel=r'$q_{\\parallel}$ [expected blind]')\n",
    "ax[1, 0].axhline(y=0., color='gray', linestyle='--')\n",
    "chi2min_red = profiles_unblinded.bestfit.chi2min / profiles_unblinded.bestfit.attrs['ndof']\n",
    "if clustering_statistics == 'pk':\n",
    "    ax[1, 0].text(0.98, 0., r'$\\chi^2_{min, unblind}{\\rm[reduc]}: %.2f$' % (chi2min_red), fontsize=15)\n",
    "    chi2min_std = np.array(bestfit['chi2min'] / bestfit_unblinded['chi2min'] - 1.).std()\n",
    "    ax[1, 0].text(0.98, -0.04, r'std:{:.3}'.format(chi2min_std), fontsize=15)\n",
    "    ax[1, 0].text(0.98, -0.02, r'ndof$: %.2f$' % (profiles_unblinded.bestfit.attrs['ndof']), fontsize=15)\n",
    "else:\n",
    "    ax[1, 0].text(0.98, 0.2, r'$\\chi^2_{min, unblind}{\\rm[reduc]}: %.2f$' % (chi2min_red), fontsize=15)\n",
    "    chi2min_std = np.array(bestfit['chi2min'] / bestfit_unblinded['chi2min'] - 1.).std()\n",
    "    ax[1, 0].text(0.98, 0.1, r'std:{:.3}'.format(chi2min_std), fontsize=15)\n",
    "    ax[1, 0].text(0.98, 0.15, r'ndof$: %.2f$' % (profiles_unblinded.bestfit.attrs['ndof']), fontsize=15)\n",
    "\n",
    "\n",
    "ax[0, 1].errorbar(expected['qper'], bestfit['qper'] / bestfit_unblinded['qper'], yerr=error['qper'], fmt='p') #row=0, col=1\n",
    "ax[0, 1].tick_params('x', labelbottom=True)\n",
    "ax[0, 1].set( ylabel=r'$q_{\\perp}^{blind} / q_{\\perp}^{unblind}$')\n",
    "ax[0, 1].plot(ax[0, 1].get_xlim(), ax[0, 1].get_xlim(), c='gray', linestyle='--')\n",
    "ax[0, 1].text(0.98, 1.025, r'$q_{\\perp}{\\rm[bestfit]}: %f$' % (bestfit_unblinded['qper']), fontsize=15)\n",
    "\n",
    "ax[1, 1].scatter(expected['qper'], bestfit['chi2min'] / bestfit_unblinded['chi2min'] - 1.) #row=1, col=1\n",
    "ax[1, 1].set(ylabel=r'$\\chi^2_{min} / \\chi^2_{min, unblind} - 1$', xlabel=r'$q_{\\perp}$[expected blind]')\n",
    "ax[1, 1].axhline(y=0., color='gray', linestyle='--')\n",
    "\n",
    "ax[0, 2].errorbar(expected['qiso'], bestfit['qiso'] / bestfit_unblinded['qiso'], yerr=error['qiso'], fmt='p') #row=0, col=0\n",
    "ax[0, 2].tick_params('x', labelbottom=True)\n",
    "ax[0, 2].set(ylabel=r'$q_{iso}^{blind} / q_{iso}^{unblind}$')\n",
    "ax[0, 2].plot(ax[0, 2].get_xlim(), ax[0, 2].get_xlim(), c='gray', linestyle='--')\n",
    "ax[0, 2].text(0.98, 1.025, r'$q_{iso}{\\rm[bestfit]}: %f$' % (bestfit_unblinded['qiso']), fontsize=15)\n",
    "\n",
    "ax[1, 2].scatter(expected['qiso'], bestfit['chi2min'] / bestfit_unblinded['chi2min'] - 1.) #row=1, col=0\n",
    "ax[1, 2].set(ylabel=r'$\\chi^2_{min} / \\chi^2_{min, unblind} - 1$', xlabel=r'$q_{iso}$ [expected blind]')\n",
    "ax[1, 2].axhline(y=0., color='gray', linestyle='--')\n",
    "\n",
    "ax[0, 3].errorbar(expected['dm'], bestfit['dm'] - bestfit_unblinded['dm'], yerr=error['dm'], fmt='p') #row=0, col=0\n",
    "ax[0, 3].tick_params('x', labelbottom=True)\n",
    "ax[0, 3].set(ylabel=r'$dm^{blind} - dm^{unblind}$')\n",
    "ax[0, 3].plot(ax[0, 3].get_xlim(), ax[0, 3].get_xlim(), c='gray', linestyle='--')\n",
    "ax[0, 3].text(-0.05, 0.05, r'$dm{\\rm[bestfit]}: %f$' % (bestfit_unblinded['dm']), fontsize=15)\n",
    "\n",
    "ax[1, 3].scatter(expected['dm'], bestfit['chi2min'] / bestfit_unblinded['chi2min'] - 1.) #row=1, col=0\n",
    "ax[1, 3].set(ylabel=r'$\\chi^2_{min} / \\chi^2_{min, unblind} - 1$', xlabel=r'$dm$ [expected blind]')\n",
    "ax[1, 3].axhline(y=0., color='gray', linestyle='--')\n",
    "\n",
    "ax[0, 4].errorbar(expected['df'], bestfit['df'] / bestfit_unblinded['df'], yerr=error['df'], fmt='p') #row=0, col=0\n",
    "ax[0, 4].tick_params('x', labelbottom=True)\n",
    "ax[0, 4].set(ylabel=r'$df^{blind} / df^{unblind}$')\n",
    "ax[0, 4].plot(ax[0, 4].get_xlim(), ax[0, 4].get_xlim(), c='gray', linestyle='--')\n",
    "ax[0, 4].text(0.85, 1.025, r'$df{\\rm[bestfit]}: %f$' % (bestfit_unblinded['df']), fontsize=15)\n",
    "\n",
    "ax[1, 4].scatter(expected['df'], bestfit['chi2min'] / bestfit_unblinded['chi2min'] - 1.) #row=1, col=0\n",
    "ax[1, 4].set(ylabel=r'$\\chi^2_{min} / \\chi^2_{min, unblind} - 1$', xlabel=r'$df$ [expected blind]')\n",
    "ax[1, 4].axhline(y=0., color='gray', linestyle='--')\n",
    "\n",
    "if clustering_statistics == 'pk':\n",
    "    fig.suptitle('Covariance generated individually for each blinded cosmology. {}_{}_{}_{}'.format(tracer, region, zmin, zmax), fontsize=18)\n",
    "else:\n",
    "    fig.suptitle('Same covariance generated with unblinded cosmology. {}_{}_{}_{}'.format(tracer, region, zmin, zmax), fontsize=18)\n",
    "plt.tight_layout()\n",
    "# plt.savefig(os.path.join(base_dir, 'blinded', '{}_one2one_plot_{}_{}_{}_{}.png'.format(clustering_statistics, tracer, region, zmin, zmax)))\n",
    "plt.show()"
   ]
  },
  {
   "cell_type": "code",
   "execution_count": null,
   "id": "4f580f19",
   "metadata": {},
   "outputs": [],
   "source": []
  }
 ],
 "metadata": {
  "kernelspec": {
   "display_name": "NERSC Python",
   "language": "python",
   "name": "python3"
  },
  "language_info": {
   "codemirror_mode": {
    "name": "ipython",
    "version": 3
   },
   "file_extension": ".py",
   "mimetype": "text/x-python",
   "name": "python",
   "nbconvert_exporter": "python",
   "pygments_lexer": "ipython3",
   "version": "3.10.6"
  }
 },
 "nbformat": 4,
 "nbformat_minor": 5
}
